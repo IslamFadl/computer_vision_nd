{
 "cells": [
  {
   "cell_type": "markdown",
   "id": "ee5b896e-841c-4abc-a3bc-ca47bac84348",
   "metadata": {},
   "source": [
    "# RGB colorspace"
   ]
  },
  {
   "cell_type": "markdown",
   "id": "69255603-5e94-4993-8ccc-e3a170923263",
   "metadata": {},
   "source": [
    "### Import resources"
   ]
  },
  {
   "cell_type": "code",
   "execution_count": 1,
   "id": "1243c026-0c9b-4bce-910b-a241e45f6967",
   "metadata": {},
   "outputs": [],
   "source": [
    "import matplotlib.pyplot as plt\n",
    "import matplotlib.image as mpimg\n",
    "\n",
    "%matplotlib inline"
   ]
  },
  {
   "cell_type": "markdown",
   "id": "76c6f20e-48cc-42f4-8ad9-a7d1234cb461",
   "metadata": {},
   "source": [
    "### Read in an image"
   ]
  },
  {
   "cell_type": "code",
   "execution_count": null,
   "id": "320be322-4355-49f6-90ea-233db870911c",
   "metadata": {},
   "outputs": [],
   "source": [
    "# Read in the image\n",
    "image = mpimg.imread('images/wa_state_highway.jpg')\n",
    "\n",
    "plt.imshow(image)"
   ]
  },
  {
   "cell_type": "markdown",
   "id": "1e23332c-f9e2-4ee4-a783-ed35fa350863",
   "metadata": {},
   "source": [
    "### RGB channels \n",
    "\n",
    "Visualize the levels of each color channel. Pay close attention to the traffic signs!"
   ]
  },
  {
   "cell_type": "code",
   "execution_count": null,
   "id": "a2d6a28d-ef24-44a7-9aa7-4ccdc45dd7b5",
   "metadata": {},
   "outputs": [],
   "source": [
    "# Isolate RGB channels\n",
    "r = image[:,:,0]\n",
    "g = image[:,:,1]\n",
    "b = image[:,:,2]\n",
    "\n",
    "# Visualize the individual color channels\n",
    "f, (ax1, ax2, ax3) = plt.subplots(1, 3, figsize=(20,10))\n",
    "ax1.set_title('R channel')\n",
    "ax1.imshow(r, cmap='gray')\n",
    "ax2.set_title('G channel')\n",
    "ax2.imshow(g, cmap='gray')\n",
    "ax3.set_title('B channel')\n",
    "ax3.imshow(b, cmap='gray')\n",
    "\n",
    "## Which area has the lowest value for red? What about for blue?"
   ]
  }
 ],
 "metadata": {
  "kernelspec": {
   "display_name": "Python 3 (ipykernel)",
   "language": "python",
   "name": "python3"
  },
  "language_info": {
   "codemirror_mode": {
    "name": "ipython",
    "version": 3
   },
   "file_extension": ".py",
   "mimetype": "text/x-python",
   "name": "python",
   "nbconvert_exporter": "python",
   "pygments_lexer": "ipython3",
   "version": "3.8.20"
  }
 },
 "nbformat": 4,
 "nbformat_minor": 5
}
